{
 "cells": [
  {
   "cell_type": "code",
   "execution_count": 1,
   "metadata": {
    "collapsed": false
   },
   "outputs": [],
   "source": [
    "from bs4 import BeautifulSoup\n",
    "import pandas as pd\n",
    "\n",
    "# seleinum imports\n",
    "from selenium import webdriver\n",
    "from selenium.webdriver.common.by import By\n",
    "from selenium.webdriver.support.ui import WebDriverWait\n",
    "from selenium.webdriver.support import expected_conditions as EC"
   ]
  },
  {
   "cell_type": "code",
   "execution_count": 2,
   "metadata": {
    "collapsed": true
   },
   "outputs": [],
   "source": [
    "url = \"http://novostroykirf.ru/1/#!devsearch;page=1\"\n",
    "browser = webdriver.PhantomJS()\n",
    "browser.get(url)\n",
    "element = WebDriverWait(browser, 5).until(\n",
    "    EC.presence_of_element_located((By.XPATH, \"html/body/div[4]/div[1]/div[5]/div/div/div[4]/div/div[3]/div/div[2]/div/div/table/tbody/tr[16]/td[1]/div/div/a\"))\n",
    ")"
   ]
  },
  {
   "cell_type": "code",
   "execution_count": 3,
   "metadata": {
    "collapsed": false
   },
   "outputs": [],
   "source": [
    "soup = BeautifulSoup(browser.page_source, 'lxml')"
   ]
  },
  {
   "cell_type": "code",
   "execution_count": 4,
   "metadata": {
    "collapsed": false
   },
   "outputs": [],
   "source": [
    "# get columns names\n",
    "column_names = [col_tag.text for col_tag in soup.find('thead').find_all('th')]"
   ]
  },
  {
   "cell_type": "code",
   "execution_count": 5,
   "metadata": {
    "collapsed": true
   },
   "outputs": [],
   "source": [
    "# fill with main data from table\n",
    "table = soup.find_all('table')[1].find('tbody')\n",
    "table_rows = table.find_all('tr')\n",
    "list_rows = []\n",
    "for row in table_rows:\n",
    "    company_info = []\n",
    "    for cell in row.find_all('td'):\n",
    "        # for some encoding issues\n",
    "        company_info.append(cell.text.replace('\\xa0', ' '))\n",
    "    list_rows.append(company_info)"
   ]
  },
  {
   "cell_type": "code",
   "execution_count": 6,
   "metadata": {
    "collapsed": false
   },
   "outputs": [],
   "source": [
    "# create DataFrame\n",
    "df = pd.DataFrame(list_rows, columns=column_names)"
   ]
  },
  {
   "cell_type": "code",
   "execution_count": 7,
   "metadata": {
    "collapsed": false
   },
   "outputs": [
    {
     "data": {
      "text/html": [
       "<div>\n",
       "<table border=\"1\" class=\"dataframe\">\n",
       "  <thead>\n",
       "    <tr style=\"text-align: right;\">\n",
       "      <th></th>\n",
       "      <th>Застройщик</th>\n",
       "      <th>Количество объектов</th>\n",
       "      <th>Объем строительства, m2</th>\n",
       "      <th>Рейтинг РАСК</th>\n",
       "    </tr>\n",
       "  </thead>\n",
       "  <tbody>\n",
       "    <tr>\n",
       "      <th>0</th>\n",
       "      <td>ООО Мир, г. Чита</td>\n",
       "      <td>2</td>\n",
       "      <td>13 407</td>\n",
       "      <td>Г1</td>\n",
       "    </tr>\n",
       "    <tr>\n",
       "      <th>1</th>\n",
       "      <td>ООО Новый мир плюс, г. Владимир</td>\n",
       "      <td>12</td>\n",
       "      <td>111 564</td>\n",
       "      <td>Б1</td>\n",
       "    </tr>\n",
       "    <tr>\n",
       "      <th>2</th>\n",
       "      <td>ООО УКС КЧУС, г. Кирово-Чепецк, бренд: Холдинг...</td>\n",
       "      <td>4</td>\n",
       "      <td>37 328</td>\n",
       "      <td>В2</td>\n",
       "    </tr>\n",
       "    <tr>\n",
       "      <th>3</th>\n",
       "      <td>ООО Кировспецмонтаж, г. Киров</td>\n",
       "      <td>12</td>\n",
       "      <td>146 911</td>\n",
       "      <td>Б1</td>\n",
       "    </tr>\n",
       "    <tr>\n",
       "      <th>4</th>\n",
       "      <td>ООО СК СибЛидер, г. Красноярск</td>\n",
       "      <td>7</td>\n",
       "      <td>60 842</td>\n",
       "      <td>Б2</td>\n",
       "    </tr>\n",
       "  </tbody>\n",
       "</table>\n",
       "</div>"
      ],
      "text/plain": [
       "                                          Застройщик Количество объектов  \\\n",
       "0                                   ООО Мир, г. Чита                   2   \n",
       "1                    ООО Новый мир плюс, г. Владимир                  12   \n",
       "2  ООО УКС КЧУС, г. Кирово-Чепецк, бренд: Холдинг...                   4   \n",
       "3                      ООО Кировспецмонтаж, г. Киров                  12   \n",
       "4                     ООО СК СибЛидер, г. Красноярск                   7   \n",
       "\n",
       "  Объем строительства, m2 Рейтинг РАСК  \n",
       "0                  13 407           Г1  \n",
       "1                 111 564           Б1  \n",
       "2                  37 328           В2  \n",
       "3                 146 911           Б1  \n",
       "4                  60 842           Б2  "
      ]
     },
     "execution_count": 7,
     "metadata": {},
     "output_type": "execute_result"
    }
   ],
   "source": [
    "df.head()"
   ]
  },
  {
   "cell_type": "code",
   "execution_count": 8,
   "metadata": {
    "collapsed": false
   },
   "outputs": [
    {
     "data": {
      "text/html": [
       "<div>\n",
       "<table border=\"1\" class=\"dataframe\">\n",
       "  <thead>\n",
       "    <tr style=\"text-align: right;\">\n",
       "      <th></th>\n",
       "      <th>0</th>\n",
       "      <th>1</th>\n",
       "      <th>2</th>\n",
       "    </tr>\n",
       "  </thead>\n",
       "  <tbody>\n",
       "    <tr>\n",
       "      <th>0</th>\n",
       "      <td>ООО Мир</td>\n",
       "      <td>г. Чита</td>\n",
       "      <td>None</td>\n",
       "    </tr>\n",
       "    <tr>\n",
       "      <th>1</th>\n",
       "      <td>ООО Новый мир плюс</td>\n",
       "      <td>г. Владимир</td>\n",
       "      <td>None</td>\n",
       "    </tr>\n",
       "    <tr>\n",
       "      <th>2</th>\n",
       "      <td>ООО УКС КЧУС</td>\n",
       "      <td>г. Кирово-Чепецк</td>\n",
       "      <td>бренд: Холдинг Кирово-Чепецкое управление стр...</td>\n",
       "    </tr>\n",
       "    <tr>\n",
       "      <th>3</th>\n",
       "      <td>ООО Кировспецмонтаж</td>\n",
       "      <td>г. Киров</td>\n",
       "      <td>None</td>\n",
       "    </tr>\n",
       "    <tr>\n",
       "      <th>4</th>\n",
       "      <td>ООО СК СибЛидер</td>\n",
       "      <td>г. Красноярск</td>\n",
       "      <td>None</td>\n",
       "    </tr>\n",
       "  </tbody>\n",
       "</table>\n",
       "</div>"
      ],
      "text/plain": [
       "                     0                  1  \\\n",
       "0              ООО Мир            г. Чита   \n",
       "1   ООО Новый мир плюс        г. Владимир   \n",
       "2         ООО УКС КЧУС   г. Кирово-Чепецк   \n",
       "3  ООО Кировспецмонтаж           г. Киров   \n",
       "4      ООО СК СибЛидер      г. Красноярск   \n",
       "\n",
       "                                                   2  \n",
       "0                                               None  \n",
       "1                                               None  \n",
       "2   бренд: Холдинг Кирово-Чепецкое управление стр...  \n",
       "3                                               None  \n",
       "4                                               None  "
      ]
     },
     "execution_count": 8,
     "metadata": {},
     "output_type": "execute_result"
    }
   ],
   "source": [
    "# Split on ','\n",
    "df_first = df.iloc[:, 0].str.split(',', expand=True)\n",
    "df_first.head()"
   ]
  },
  {
   "cell_type": "code",
   "execution_count": 9,
   "metadata": {
    "collapsed": true
   },
   "outputs": [],
   "source": [
    "# Extract companies and cities\n",
    "col_company = df_first.iloc[:, 0]\n",
    "col_city = df_first.apply(lambda x: x[x.str.contains('г\\.').idxmax()], axis=1)\n",
    "\n",
    "col_company.name = 'Застройщик'\n",
    "col_city.name = \"Город\""
   ]
  },
  {
   "cell_type": "code",
   "execution_count": 10,
   "metadata": {
    "collapsed": false
   },
   "outputs": [],
   "source": [
    "# concatenate for final DataFrame\n",
    "df_final = pd.concat([col_company, col_city, df.iloc[:, 1:]], axis=1)"
   ]
  },
  {
   "cell_type": "code",
   "execution_count": 11,
   "metadata": {
    "collapsed": false
   },
   "outputs": [
    {
     "data": {
      "text/html": [
       "<div>\n",
       "<table border=\"1\" class=\"dataframe\">\n",
       "  <thead>\n",
       "    <tr style=\"text-align: right;\">\n",
       "      <th></th>\n",
       "      <th>Застройщик</th>\n",
       "      <th>Город</th>\n",
       "      <th>Количество объектов</th>\n",
       "      <th>Объем строительства, m2</th>\n",
       "      <th>Рейтинг РАСК</th>\n",
       "    </tr>\n",
       "  </thead>\n",
       "  <tbody>\n",
       "    <tr>\n",
       "      <th>0</th>\n",
       "      <td>ООО Мир</td>\n",
       "      <td>г. Чита</td>\n",
       "      <td>2</td>\n",
       "      <td>13 407</td>\n",
       "      <td>Г1</td>\n",
       "    </tr>\n",
       "    <tr>\n",
       "      <th>1</th>\n",
       "      <td>ООО Новый мир плюс</td>\n",
       "      <td>г. Владимир</td>\n",
       "      <td>12</td>\n",
       "      <td>111 564</td>\n",
       "      <td>Б1</td>\n",
       "    </tr>\n",
       "    <tr>\n",
       "      <th>2</th>\n",
       "      <td>ООО УКС КЧУС</td>\n",
       "      <td>г. Кирово-Чепецк</td>\n",
       "      <td>4</td>\n",
       "      <td>37 328</td>\n",
       "      <td>В2</td>\n",
       "    </tr>\n",
       "    <tr>\n",
       "      <th>3</th>\n",
       "      <td>ООО Кировспецмонтаж</td>\n",
       "      <td>г. Киров</td>\n",
       "      <td>12</td>\n",
       "      <td>146 911</td>\n",
       "      <td>Б1</td>\n",
       "    </tr>\n",
       "    <tr>\n",
       "      <th>4</th>\n",
       "      <td>ООО СК СибЛидер</td>\n",
       "      <td>г. Красноярск</td>\n",
       "      <td>7</td>\n",
       "      <td>60 842</td>\n",
       "      <td>Б2</td>\n",
       "    </tr>\n",
       "  </tbody>\n",
       "</table>\n",
       "</div>"
      ],
      "text/plain": [
       "            Застройщик              Город Количество объектов  \\\n",
       "0              ООО Мир            г. Чита                   2   \n",
       "1   ООО Новый мир плюс        г. Владимир                  12   \n",
       "2         ООО УКС КЧУС   г. Кирово-Чепецк                   4   \n",
       "3  ООО Кировспецмонтаж           г. Киров                  12   \n",
       "4      ООО СК СибЛидер      г. Красноярск                   7   \n",
       "\n",
       "  Объем строительства, m2 Рейтинг РАСК  \n",
       "0                  13 407           Г1  \n",
       "1                 111 564           Б1  \n",
       "2                  37 328           В2  \n",
       "3                 146 911           Б1  \n",
       "4                  60 842           Б2  "
      ]
     },
     "execution_count": 11,
     "metadata": {},
     "output_type": "execute_result"
    }
   ],
   "source": [
    "df_final.head()"
   ]
  },
  {
   "cell_type": "code",
   "execution_count": 12,
   "metadata": {
    "collapsed": false
   },
   "outputs": [],
   "source": [
    "# clear from spaces and convert to int\n",
    "df_final.iloc[:, -2] = df_final.iloc[:, -2].str.replace('\\s+', '')\n",
    "df_final.loc[:, 'Количество объектов'] = df_final.loc[:, 'Количество объектов'].astype(int)\n",
    "df_final.loc[:, 'Объем строительства, m2'] = df_final.loc[:, 'Объем строительства, m2'].astype(int)"
   ]
  },
  {
   "cell_type": "code",
   "execution_count": 13,
   "metadata": {
    "collapsed": false
   },
   "outputs": [
    {
     "data": {
      "text/plain": [
       "Застройщик                 object\n",
       "Город                      object\n",
       "Количество объектов         int64\n",
       "Объем строительства, m2     int64\n",
       "Рейтинг РАСК               object\n",
       "dtype: object"
      ]
     },
     "execution_count": 13,
     "metadata": {},
     "output_type": "execute_result"
    }
   ],
   "source": [
    "df_final.dtypes"
   ]
  },
  {
   "cell_type": "code",
   "execution_count": 14,
   "metadata": {
    "collapsed": false
   },
   "outputs": [
    {
     "data": {
      "text/html": [
       "<div>\n",
       "<table border=\"1\" class=\"dataframe\">\n",
       "  <thead>\n",
       "    <tr style=\"text-align: right;\">\n",
       "      <th></th>\n",
       "      <th>Застройщик</th>\n",
       "      <th>Город</th>\n",
       "      <th>Количество объектов</th>\n",
       "      <th>Объем строительства, m2</th>\n",
       "      <th>Рейтинг РАСК</th>\n",
       "    </tr>\n",
       "  </thead>\n",
       "  <tbody>\n",
       "    <tr>\n",
       "      <th>0</th>\n",
       "      <td>ООО Мир</td>\n",
       "      <td>г. Чита</td>\n",
       "      <td>2</td>\n",
       "      <td>13407</td>\n",
       "      <td>Г1</td>\n",
       "    </tr>\n",
       "    <tr>\n",
       "      <th>1</th>\n",
       "      <td>ООО Новый мир плюс</td>\n",
       "      <td>г. Владимир</td>\n",
       "      <td>12</td>\n",
       "      <td>111564</td>\n",
       "      <td>Б1</td>\n",
       "    </tr>\n",
       "    <tr>\n",
       "      <th>2</th>\n",
       "      <td>ООО УКС КЧУС</td>\n",
       "      <td>г. Кирово-Чепецк</td>\n",
       "      <td>4</td>\n",
       "      <td>37328</td>\n",
       "      <td>В2</td>\n",
       "    </tr>\n",
       "    <tr>\n",
       "      <th>3</th>\n",
       "      <td>ООО Кировспецмонтаж</td>\n",
       "      <td>г. Киров</td>\n",
       "      <td>12</td>\n",
       "      <td>146911</td>\n",
       "      <td>Б1</td>\n",
       "    </tr>\n",
       "    <tr>\n",
       "      <th>4</th>\n",
       "      <td>ООО СК СибЛидер</td>\n",
       "      <td>г. Красноярск</td>\n",
       "      <td>7</td>\n",
       "      <td>60842</td>\n",
       "      <td>Б2</td>\n",
       "    </tr>\n",
       "    <tr>\n",
       "      <th>5</th>\n",
       "      <td>ООО УСК Сибиряк</td>\n",
       "      <td>г. Красноярск</td>\n",
       "      <td>13</td>\n",
       "      <td>188190</td>\n",
       "      <td>Г1</td>\n",
       "    </tr>\n",
       "    <tr>\n",
       "      <th>6</th>\n",
       "      <td>ЗАО Строительная фирма Трест-5</td>\n",
       "      <td>г. Омск</td>\n",
       "      <td>4</td>\n",
       "      <td>33492</td>\n",
       "      <td>В1</td>\n",
       "    </tr>\n",
       "    <tr>\n",
       "      <th>7</th>\n",
       "      <td>ООО Фирма Кристина</td>\n",
       "      <td>г. Ростов-на-Дону</td>\n",
       "      <td>4</td>\n",
       "      <td>9789</td>\n",
       "      <td>Б3</td>\n",
       "    </tr>\n",
       "    <tr>\n",
       "      <th>8</th>\n",
       "      <td>ЗАО Краснодарпроектстрой</td>\n",
       "      <td>г. Краснодар</td>\n",
       "      <td>1</td>\n",
       "      <td>10532</td>\n",
       "      <td>Г3</td>\n",
       "    </tr>\n",
       "    <tr>\n",
       "      <th>9</th>\n",
       "      <td>ООО ЮгСпецСтрой</td>\n",
       "      <td>г. Ростов-на-Дону</td>\n",
       "      <td>2</td>\n",
       "      <td>34568</td>\n",
       "      <td>В1</td>\n",
       "    </tr>\n",
       "    <tr>\n",
       "      <th>10</th>\n",
       "      <td>ООО Третий Рим</td>\n",
       "      <td>г. Михайловск</td>\n",
       "      <td>3</td>\n",
       "      <td>13427</td>\n",
       "      <td>Б3</td>\n",
       "    </tr>\n",
       "    <tr>\n",
       "      <th>11</th>\n",
       "      <td>ООО Инстеп</td>\n",
       "      <td>г. Воронеж</td>\n",
       "      <td>10</td>\n",
       "      <td>77345</td>\n",
       "      <td>Б1</td>\n",
       "    </tr>\n",
       "    <tr>\n",
       "      <th>12</th>\n",
       "      <td>ООО Партнерство</td>\n",
       "      <td>г. Серпухов</td>\n",
       "      <td>1</td>\n",
       "      <td>10559</td>\n",
       "      <td>Б3</td>\n",
       "    </tr>\n",
       "    <tr>\n",
       "      <th>13</th>\n",
       "      <td>ОАО ПМК-5</td>\n",
       "      <td>г. Йошкар-Ола</td>\n",
       "      <td>2</td>\n",
       "      <td>7392</td>\n",
       "      <td>Б3</td>\n",
       "    </tr>\n",
       "    <tr>\n",
       "      <th>14</th>\n",
       "      <td>ООО ДОМКОР</td>\n",
       "      <td>г. Набережные Челны</td>\n",
       "      <td>20</td>\n",
       "      <td>225452</td>\n",
       "      <td>Б3</td>\n",
       "    </tr>\n",
       "    <tr>\n",
       "      <th>15</th>\n",
       "      <td>ООО ДСК</td>\n",
       "      <td>г. Ульяновск</td>\n",
       "      <td>5</td>\n",
       "      <td>30522</td>\n",
       "      <td>Б2</td>\n",
       "    </tr>\n",
       "    <tr>\n",
       "      <th>16</th>\n",
       "      <td>ОАО Ипотечная корпорация Чувашской Республики</td>\n",
       "      <td>г. Чебоксары</td>\n",
       "      <td>1</td>\n",
       "      <td>7969</td>\n",
       "      <td>Г1</td>\n",
       "    </tr>\n",
       "    <tr>\n",
       "      <th>17</th>\n",
       "      <td>ООО АСПЭК-Домстрой</td>\n",
       "      <td>г. Ижевск</td>\n",
       "      <td>8</td>\n",
       "      <td>73180</td>\n",
       "      <td>Б2</td>\n",
       "    </tr>\n",
       "    <tr>\n",
       "      <th>18</th>\n",
       "      <td>ООО ИСК Строй-Капитал</td>\n",
       "      <td>г. Владимир</td>\n",
       "      <td>26</td>\n",
       "      <td>55901</td>\n",
       "      <td>В1</td>\n",
       "    </tr>\n",
       "    <tr>\n",
       "      <th>19</th>\n",
       "      <td>ООО СК Легион</td>\n",
       "      <td>г. Челябинск</td>\n",
       "      <td>5</td>\n",
       "      <td>64818</td>\n",
       "      <td>В1</td>\n",
       "    </tr>\n",
       "  </tbody>\n",
       "</table>\n",
       "</div>"
      ],
      "text/plain": [
       "                                       Застройщик                 Город  \\\n",
       "0                                         ООО Мир               г. Чита   \n",
       "1                              ООО Новый мир плюс           г. Владимир   \n",
       "2                                    ООО УКС КЧУС      г. Кирово-Чепецк   \n",
       "3                             ООО Кировспецмонтаж              г. Киров   \n",
       "4                                 ООО СК СибЛидер         г. Красноярск   \n",
       "5                                 ООО УСК Сибиряк         г. Красноярск   \n",
       "6                  ЗАО Строительная фирма Трест-5               г. Омск   \n",
       "7                              ООО Фирма Кристина     г. Ростов-на-Дону   \n",
       "8                        ЗАО Краснодарпроектстрой          г. Краснодар   \n",
       "9                                 ООО ЮгСпецСтрой     г. Ростов-на-Дону   \n",
       "10                                 ООО Третий Рим         г. Михайловск   \n",
       "11                                     ООО Инстеп            г. Воронеж   \n",
       "12                                ООО Партнерство           г. Серпухов   \n",
       "13                                      ОАО ПМК-5         г. Йошкар-Ола   \n",
       "14                                     ООО ДОМКОР   г. Набережные Челны   \n",
       "15                                        ООО ДСК          г. Ульяновск   \n",
       "16  ОАО Ипотечная корпорация Чувашской Республики          г. Чебоксары   \n",
       "17                             ООО АСПЭК-Домстрой             г. Ижевск   \n",
       "18                          ООО ИСК Строй-Капитал           г. Владимир   \n",
       "19                                  ООО СК Легион          г. Челябинск   \n",
       "\n",
       "    Количество объектов  Объем строительства, m2 Рейтинг РАСК  \n",
       "0                     2                    13407           Г1  \n",
       "1                    12                   111564           Б1  \n",
       "2                     4                    37328           В2  \n",
       "3                    12                   146911           Б1  \n",
       "4                     7                    60842           Б2  \n",
       "5                    13                   188190           Г1  \n",
       "6                     4                    33492           В1  \n",
       "7                     4                     9789           Б3  \n",
       "8                     1                    10532           Г3  \n",
       "9                     2                    34568           В1  \n",
       "10                    3                    13427           Б3  \n",
       "11                   10                    77345           Б1  \n",
       "12                    1                    10559           Б3  \n",
       "13                    2                     7392           Б3  \n",
       "14                   20                   225452           Б3  \n",
       "15                    5                    30522           Б2  \n",
       "16                    1                     7969           Г1  \n",
       "17                    8                    73180           Б2  \n",
       "18                   26                    55901           В1  \n",
       "19                    5                    64818           В1  "
      ]
     },
     "execution_count": 14,
     "metadata": {},
     "output_type": "execute_result"
    }
   ],
   "source": [
    "df_final"
   ]
  },
  {
   "cell_type": "code",
   "execution_count": 15,
   "metadata": {
    "collapsed": true
   },
   "outputs": [],
   "source": [
    "df_final.to_csv('task3_cleared.csv', sep=';', index=False)"
   ]
  }
 ],
 "metadata": {
  "kernelspec": {
   "display_name": "Python 3",
   "language": "python",
   "name": "python3"
  },
  "language_info": {
   "codemirror_mode": {
    "name": "ipython",
    "version": 3
   },
   "file_extension": ".py",
   "mimetype": "text/x-python",
   "name": "python",
   "nbconvert_exporter": "python",
   "pygments_lexer": "ipython3",
   "version": "3.5.2"
  }
 },
 "nbformat": 4,
 "nbformat_minor": 0
}
