{
 "cells": [
  {
   "cell_type": "code",
   "execution_count": 1,
   "metadata": {
    "collapsed": true
   },
   "outputs": [],
   "source": [
    "df = pd.read_csv('Задание для ML (TASK2).csv', sep=';', encoding='1251')"
   ]
  },
  {
   "cell_type": "code",
   "execution_count": 2,
   "metadata": {
    "collapsed": false
   },
   "outputs": [
    {
     "data": {
      "text/html": [
       "<div>\n",
       "<table border=\"1\" class=\"dataframe\">\n",
       "  <thead>\n",
       "    <tr style=\"text-align: right;\">\n",
       "      <th></th>\n",
       "      <th>paste.UND2...9...ID..sep.......</th>\n",
       "      <th>X|Y|ID</th>\n",
       "    </tr>\n",
       "  </thead>\n",
       "  <tbody>\n",
       "    <tr>\n",
       "      <th>0</th>\n",
       "      <td>\"Россия, Москва, Калининская линия, метро Авиа...</td>\n",
       "      <td>37.567545|55.744596|45115</td>\n",
       "    </tr>\n",
       "    <tr>\n",
       "      <th>1</th>\n",
       "      <td>\"Россия, Москва, Замоскворецкая линия, метро А...</td>\n",
       "      <td>30.321887|59.866269|107383</td>\n",
       "    </tr>\n",
       "    <tr>\n",
       "      <th>2</th>\n",
       "      <td>\"Россия, Москва, Калужско-Рижская линия, метро...</td>\n",
       "      <td>30.359975|59.944436|193410</td>\n",
       "    </tr>\n",
       "    <tr>\n",
       "      <th>3</th>\n",
       "      <td>\"Россия, Москва, Филёвская линия, метро Алекса...</td>\n",
       "      <td>37.620986|55.771616|135657</td>\n",
       "    </tr>\n",
       "    <tr>\n",
       "      <th>4</th>\n",
       "      <td>\"Россия, Москва, Калужско-Рижская линия, метро...</td>\n",
       "      <td>82.976215|55.037969|88577</td>\n",
       "    </tr>\n",
       "  </tbody>\n",
       "</table>\n",
       "</div>"
      ],
      "text/plain": [
       "                     paste.UND2...9...ID..sep.......  \\\n",
       "0  \"Россия, Москва, Калининская линия, метро Авиа...   \n",
       "1  \"Россия, Москва, Замоскворецкая линия, метро А...   \n",
       "2  \"Россия, Москва, Калужско-Рижская линия, метро...   \n",
       "3  \"Россия, Москва, Филёвская линия, метро Алекса...   \n",
       "4  \"Россия, Москва, Калужско-Рижская линия, метро...   \n",
       "\n",
       "                       X|Y|ID  \n",
       "0   37.567545|55.744596|45115  \n",
       "1  30.321887|59.866269|107383  \n",
       "2  30.359975|59.944436|193410  \n",
       "3  37.620986|55.771616|135657  \n",
       "4   82.976215|55.037969|88577  "
      ]
     },
     "execution_count": 2,
     "metadata": {},
     "output_type": "execute_result"
    }
   ],
   "source": [
    "df.head()"
   ]
  },
  {
   "cell_type": "code",
   "execution_count": 3,
   "metadata": {
    "collapsed": false
   },
   "outputs": [],
   "source": [
    "# clear first column and split to dataframe by comma sign\n",
    "col_1 = df.iloc[:, 0]\n",
    "col_1 = col_1.str.replace('\"', '')\n",
    "df_first = col_1.str.split(',', expand=True)"
   ]
  },
  {
   "cell_type": "code",
   "execution_count": 4,
   "metadata": {
    "collapsed": false
   },
   "outputs": [
    {
     "data": {
      "text/html": [
       "<div>\n",
       "<table border=\"1\" class=\"dataframe\">\n",
       "  <thead>\n",
       "    <tr style=\"text-align: right;\">\n",
       "      <th></th>\n",
       "      <th>0</th>\n",
       "      <th>1</th>\n",
       "      <th>2</th>\n",
       "      <th>3</th>\n",
       "      <th>4</th>\n",
       "      <th>5</th>\n",
       "    </tr>\n",
       "  </thead>\n",
       "  <tbody>\n",
       "    <tr>\n",
       "      <th>0</th>\n",
       "      <td>Россия</td>\n",
       "      <td>Москва</td>\n",
       "      <td>Калининская линия</td>\n",
       "      <td>метро Авиамоторная</td>\n",
       "      <td>12816</td>\n",
       "      <td>None</td>\n",
       "    </tr>\n",
       "    <tr>\n",
       "      <th>1</th>\n",
       "      <td>Россия</td>\n",
       "      <td>Москва</td>\n",
       "      <td>Замоскворецкая линия</td>\n",
       "      <td>метро Автозаводская</td>\n",
       "      <td>141887</td>\n",
       "      <td>None</td>\n",
       "    </tr>\n",
       "    <tr>\n",
       "      <th>2</th>\n",
       "      <td>Россия</td>\n",
       "      <td>Москва</td>\n",
       "      <td>Калужско-Рижская линия</td>\n",
       "      <td>метро Академическая</td>\n",
       "      <td>126917</td>\n",
       "      <td>None</td>\n",
       "    </tr>\n",
       "    <tr>\n",
       "      <th>3</th>\n",
       "      <td>Россия</td>\n",
       "      <td>Москва</td>\n",
       "      <td>Филёвская линия</td>\n",
       "      <td>метро Александровский сад</td>\n",
       "      <td>168611</td>\n",
       "      <td>None</td>\n",
       "    </tr>\n",
       "    <tr>\n",
       "      <th>4</th>\n",
       "      <td>Россия</td>\n",
       "      <td>Москва</td>\n",
       "      <td>Калужско-Рижская линия</td>\n",
       "      <td>метро Алексеевская</td>\n",
       "      <td>58520</td>\n",
       "      <td>None</td>\n",
       "    </tr>\n",
       "  </tbody>\n",
       "</table>\n",
       "</div>"
      ],
      "text/plain": [
       "        0        1                        2                           3  \\\n",
       "0  Россия   Москва        Калининская линия          метро Авиамоторная   \n",
       "1  Россия   Москва     Замоскворецкая линия         метро Автозаводская   \n",
       "2  Россия   Москва   Калужско-Рижская линия         метро Академическая   \n",
       "3  Россия   Москва          Филёвская линия   метро Александровский сад   \n",
       "4  Россия   Москва   Калужско-Рижская линия          метро Алексеевская   \n",
       "\n",
       "        4     5  \n",
       "0   12816  None  \n",
       "1  141887  None  \n",
       "2  126917  None  \n",
       "3  168611  None  \n",
       "4   58520  None  "
      ]
     },
     "execution_count": 4,
     "metadata": {},
     "output_type": "execute_result"
    }
   ],
   "source": [
    "df_first.head()"
   ]
  },
  {
   "cell_type": "code",
   "execution_count": 5,
   "metadata": {
    "collapsed": false
   },
   "outputs": [],
   "source": [
    "# extract columns for ID, metro and city\n",
    "col_ID = df_first.apply(lambda x: x[x[::-1].first_valid_index()], axis=1)\n",
    "col_metro = df_first.apply(lambda x: x[x.str.contains('метро').idxmax()].replace('метро','').strip(), axis=1)\n",
    "col_city = df_first.apply(lambda x: x.iloc[2] if x.str.contains('область|республика', case=False).any() \n",
    "                          else x.iloc[1], axis=1)\n",
    "\n",
    "# joining them for one dataframe\n",
    "df_city = pd.concat([col_city, col_metro, col_ID], axis=1)\n",
    "df_city.columns = ['Город', 'Метро', 'ID' ]"
   ]
  },
  {
   "cell_type": "code",
   "execution_count": 6,
   "metadata": {
    "collapsed": false
   },
   "outputs": [
    {
     "data": {
      "text/html": [
       "<div>\n",
       "<table border=\"1\" class=\"dataframe\">\n",
       "  <thead>\n",
       "    <tr style=\"text-align: right;\">\n",
       "      <th></th>\n",
       "      <th>Город</th>\n",
       "      <th>Метро</th>\n",
       "      <th>ID</th>\n",
       "    </tr>\n",
       "  </thead>\n",
       "  <tbody>\n",
       "    <tr>\n",
       "      <th>0</th>\n",
       "      <td>Москва</td>\n",
       "      <td>Авиамоторная</td>\n",
       "      <td>12816</td>\n",
       "    </tr>\n",
       "    <tr>\n",
       "      <th>1</th>\n",
       "      <td>Москва</td>\n",
       "      <td>Автозаводская</td>\n",
       "      <td>141887</td>\n",
       "    </tr>\n",
       "    <tr>\n",
       "      <th>2</th>\n",
       "      <td>Москва</td>\n",
       "      <td>Академическая</td>\n",
       "      <td>126917</td>\n",
       "    </tr>\n",
       "    <tr>\n",
       "      <th>3</th>\n",
       "      <td>Москва</td>\n",
       "      <td>Александровский сад</td>\n",
       "      <td>168611</td>\n",
       "    </tr>\n",
       "    <tr>\n",
       "      <th>4</th>\n",
       "      <td>Москва</td>\n",
       "      <td>Алексеевская</td>\n",
       "      <td>58520</td>\n",
       "    </tr>\n",
       "  </tbody>\n",
       "</table>\n",
       "</div>"
      ],
      "text/plain": [
       "     Город                Метро      ID\n",
       "0   Москва         Авиамоторная   12816\n",
       "1   Москва        Автозаводская  141887\n",
       "2   Москва        Академическая  126917\n",
       "3   Москва  Александровский сад  168611\n",
       "4   Москва         Алексеевская   58520"
      ]
     },
     "execution_count": 6,
     "metadata": {},
     "output_type": "execute_result"
    }
   ],
   "source": [
    "df_city.head()"
   ]
  },
  {
   "cell_type": "code",
   "execution_count": 7,
   "metadata": {
    "collapsed": false
   },
   "outputs": [],
   "source": [
    "# extract coordinates and ID from second column\n",
    "df_coord = df.iloc[:, 1].str.split('|', expand=True)\n",
    "df_coord.columns = ['X', 'Y', 'ID']"
   ]
  },
  {
   "cell_type": "code",
   "execution_count": 8,
   "metadata": {
    "collapsed": false
   },
   "outputs": [
    {
     "data": {
      "text/html": [
       "<div>\n",
       "<table border=\"1\" class=\"dataframe\">\n",
       "  <thead>\n",
       "    <tr style=\"text-align: right;\">\n",
       "      <th></th>\n",
       "      <th>X</th>\n",
       "      <th>Y</th>\n",
       "      <th>ID</th>\n",
       "    </tr>\n",
       "  </thead>\n",
       "  <tbody>\n",
       "    <tr>\n",
       "      <th>0</th>\n",
       "      <td>37.567545</td>\n",
       "      <td>55.744596</td>\n",
       "      <td>45115</td>\n",
       "    </tr>\n",
       "    <tr>\n",
       "      <th>1</th>\n",
       "      <td>30.321887</td>\n",
       "      <td>59.866269</td>\n",
       "      <td>107383</td>\n",
       "    </tr>\n",
       "    <tr>\n",
       "      <th>2</th>\n",
       "      <td>30.359975</td>\n",
       "      <td>59.944436</td>\n",
       "      <td>193410</td>\n",
       "    </tr>\n",
       "    <tr>\n",
       "      <th>3</th>\n",
       "      <td>37.620986</td>\n",
       "      <td>55.771616</td>\n",
       "      <td>135657</td>\n",
       "    </tr>\n",
       "    <tr>\n",
       "      <th>4</th>\n",
       "      <td>82.976215</td>\n",
       "      <td>55.037969</td>\n",
       "      <td>88577</td>\n",
       "    </tr>\n",
       "  </tbody>\n",
       "</table>\n",
       "</div>"
      ],
      "text/plain": [
       "           X          Y      ID\n",
       "0  37.567545  55.744596   45115\n",
       "1  30.321887  59.866269  107383\n",
       "2  30.359975  59.944436  193410\n",
       "3  37.620986  55.771616  135657\n",
       "4  82.976215  55.037969   88577"
      ]
     },
     "execution_count": 8,
     "metadata": {},
     "output_type": "execute_result"
    }
   ],
   "source": [
    "df_coord.head()"
   ]
  },
  {
   "cell_type": "code",
   "execution_count": 9,
   "metadata": {
    "collapsed": false
   },
   "outputs": [
    {
     "data": {
      "text/plain": [
       "(335, 335, 335)"
      ]
     },
     "execution_count": 9,
     "metadata": {},
     "output_type": "execute_result"
    }
   ],
   "source": [
    "# Check that all ID for cities are coincide with ID for coordinates\n",
    "df_coord['ID'].isin(df_city['ID']).sum(), df_city['ID'].isin(df_coord['ID']).sum(), len(df_coord)"
   ]
  },
  {
   "cell_type": "code",
   "execution_count": 10,
   "metadata": {
    "collapsed": false
   },
   "outputs": [],
   "source": [
    "df_full = pd.merge(df_city, df_coord, on='ID')"
   ]
  },
  {
   "cell_type": "code",
   "execution_count": 11,
   "metadata": {
    "collapsed": false
   },
   "outputs": [
    {
     "data": {
      "text/html": [
       "<div>\n",
       "<table border=\"1\" class=\"dataframe\">\n",
       "  <thead>\n",
       "    <tr style=\"text-align: right;\">\n",
       "      <th></th>\n",
       "      <th>Город</th>\n",
       "      <th>Метро</th>\n",
       "      <th>ID</th>\n",
       "      <th>X</th>\n",
       "      <th>Y</th>\n",
       "    </tr>\n",
       "  </thead>\n",
       "  <tbody>\n",
       "    <tr>\n",
       "      <th>0</th>\n",
       "      <td>Москва</td>\n",
       "      <td>Авиамоторная</td>\n",
       "      <td>12816</td>\n",
       "      <td>37.716612</td>\n",
       "      <td>55.751432</td>\n",
       "    </tr>\n",
       "    <tr>\n",
       "      <th>1</th>\n",
       "      <td>Москва</td>\n",
       "      <td>Автозаводская</td>\n",
       "      <td>141887</td>\n",
       "      <td>37.657008</td>\n",
       "      <td>55.706629</td>\n",
       "    </tr>\n",
       "    <tr>\n",
       "      <th>2</th>\n",
       "      <td>Москва</td>\n",
       "      <td>Академическая</td>\n",
       "      <td>126917</td>\n",
       "      <td>37.573447</td>\n",
       "      <td>55.687761</td>\n",
       "    </tr>\n",
       "    <tr>\n",
       "      <th>3</th>\n",
       "      <td>Москва</td>\n",
       "      <td>Александровский сад</td>\n",
       "      <td>168611</td>\n",
       "      <td>37.609308</td>\n",
       "      <td>55.752075</td>\n",
       "    </tr>\n",
       "    <tr>\n",
       "      <th>4</th>\n",
       "      <td>Москва</td>\n",
       "      <td>Алексеевская</td>\n",
       "      <td>58520</td>\n",
       "      <td>37.638737</td>\n",
       "      <td>55.8078</td>\n",
       "    </tr>\n",
       "  </tbody>\n",
       "</table>\n",
       "</div>"
      ],
      "text/plain": [
       "     Город                Метро      ID          X          Y\n",
       "0   Москва         Авиамоторная   12816  37.716612  55.751432\n",
       "1   Москва        Автозаводская  141887  37.657008  55.706629\n",
       "2   Москва        Академическая  126917  37.573447  55.687761\n",
       "3   Москва  Александровский сад  168611  37.609308  55.752075\n",
       "4   Москва         Алексеевская   58520  37.638737    55.8078"
      ]
     },
     "execution_count": 11,
     "metadata": {},
     "output_type": "execute_result"
    }
   ],
   "source": [
    "df_full.head()"
   ]
  },
  {
   "cell_type": "code",
   "execution_count": 12,
   "metadata": {
    "collapsed": false
   },
   "outputs": [
    {
     "data": {
      "text/plain": [
       "(335, 5)"
      ]
     },
     "execution_count": 12,
     "metadata": {},
     "output_type": "execute_result"
    }
   ],
   "source": [
    "df_full.shape"
   ]
  },
  {
   "cell_type": "code",
   "execution_count": 13,
   "metadata": {
    "collapsed": true
   },
   "outputs": [],
   "source": [
    "df_full.to_csv('task2_cleared.csv', sep=';', index=False, encoding='utf-8')"
   ]
  },
  {
   "cell_type": "code",
   "execution_count": 14,
   "metadata": {
    "collapsed": true
   },
   "outputs": [],
   "source": [
    "link_from_google_drive='https://www.google.com/fusiontables/DataSource?docid=1zeimWwjWnB1c_XvlYAko1yfO1bwSaZAaHKBjWSAz'"
   ]
  }
 ],
 "metadata": {
  "kernelspec": {
   "display_name": "Python 3",
   "language": "python",
   "name": "python3"
  },
  "language_info": {
   "codemirror_mode": {
    "name": "ipython",
    "version": 3
   },
   "file_extension": ".py",
   "mimetype": "text/x-python",
   "name": "python",
   "nbconvert_exporter": "python",
   "pygments_lexer": "ipython3",
   "version": "3.5.2"
  }
 },
 "nbformat": 4,
 "nbformat_minor": 0
}
